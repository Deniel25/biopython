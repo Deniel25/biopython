{
 "cells": [
  {
   "cell_type": "code",
   "execution_count": 1,
   "id": "9ab73d7a",
   "metadata": {},
   "outputs": [],
   "source": [
    "from Bio.Seq import Seq\n",
    "from Bio import Entrez\n",
    "from Bio import SeqIO\n",
    "from Bio.Blast import NCBIWWW\n",
    "from Bio.Blast import NCBIXML\n",
    "import sys"
   ]
  },
  {
   "cell_type": "code",
   "execution_count": 2,
   "id": "44b666c0",
   "metadata": {},
   "outputs": [],
   "source": [
    "#seq = Seq(\"ACCTGCGGAGGGATCATTACCGAGTTTACAACTCCCAAACCCAATGGAACGTTACCAAACTGTTGCCTCGGCGGGATCTCTGCCCCGGGTGCGTCGCAGCCCCGGACCAAGGCGCCCGCCGGAGGACCAACCAAAACTCTTTTTGTATACCCCCTCGCGGGTTTTTTATAATCTGAGCCTTCTCGGCGCCTCTCGTAGGCGTTTCGAAAATAAATCAAAACTTTCAACAACGGATCTCTTGGTTCTGGCATCGATGAAGAACGCAACCAAATGCGATAAGTAATGTGAATTGCAAAATTCACTGAATCATCGAATCTTTGAACGCACATTGCGCCCGCCAGTATTCTGGCGGGCATGCCTGTCCGAACGTCATTTCAACCCTCGAACCCCTCCGGGGGGTCGGCGTTGGGGATCGGCCCTCCCTTAGCGGGTGGCCGTCTCCGAAATACAGCGGCGGTCTCCCCGCAGCCTCTCCCGCGCAGTACTTTGCACACTCTCATCGGGAGCGCGGCGCGTCCACAGCCGTTAAACACCCAACTTCTGAATTGTTGAACTAAGATCAGGTAGGAATACCCGCTGAACTTAAGCATATCAAAA\")"
   ]
  },
  {
   "cell_type": "code",
   "execution_count": 3,
   "id": "de8fa544",
   "metadata": {},
   "outputs": [],
   "source": [
    "seq = Seq('CTAGCTAGCTAGCTAGTCATGCATGCTAGCTACTCGATCG')"
   ]
  },
  {
   "cell_type": "code",
   "execution_count": 4,
   "id": "c93f784a",
   "metadata": {},
   "outputs": [
    {
     "name": "stdout",
     "output_type": "stream",
     "text": [
      "BLASTeando secuencia...\n",
      "archivo almacenado\n"
     ]
    }
   ],
   "source": [
    "#Blasteo\n",
    "print('BLASTeando secuencia...')\n",
    "result_handle = NCBIWWW.qblast(\"blastn\", \"nt\", seq)\n",
    "with open(\"resultado_blast.xml\", \"w\") as out_handle:\n",
    "    out_handle.write(result_handle.read())\n",
    "result_handle.close()\n",
    "print('archivo almacenado')"
   ]
  },
  {
   "cell_type": "code",
   "execution_count": 5,
   "id": "44b71fc9",
   "metadata": {},
   "outputs": [
    {
     "name": "stdout",
     "output_type": "stream",
     "text": [
      "=== Alineamiento ===\n",
      " Secuencia: gi|71143213|gb|AC165171.2| Zea mays clone CH201-145P10, complete sequence\n",
      " Largo: 233369\n",
      " e value: 0.00441828\n"
     ]
    }
   ],
   "source": [
    "resultados = open(\"resultado_blast.xml\")\n",
    "blast_record = NCBIXML.read(resultados)\n",
    "\n",
    "for alineamiento in blast_record.alignments:  # alignments se refiere a los hits\n",
    "    for hsp in alineamiento.hsps: # recore HSPs\n",
    "        print(f'=== Alineamiento ===')\n",
    "        print(f' Secuencia: {alineamiento.title}') # title concatena tags hit_id y hit_def\n",
    "        print(f' Largo: {alineamiento.length}') # se refiere al tag hit_len\n",
    "        print(f' e value: {hsp.expect}') # se refiere al tag Hsp_evalue\n",
    "        \n",
    "        hit_seq = (alineamiento.title.split('|'))[1]\n",
    "        break\n",
    "    break\n",
    "resultados.close()\n",
    "\n"
   ]
  },
  {
   "cell_type": "code",
   "execution_count": 31,
   "id": "ba823ba1",
   "metadata": {},
   "outputs": [
    {
     "name": "stdout",
     "output_type": "stream",
     "text": [
      "<?xml version=\"1.0\"?>\n",
      "<!DOCTYPE BlastOutput PUBLIC \"-//NCBI//NCBI BlastOutput/EN\" \"http://www.ncbi.nlm.nih.gov/dtd/NCBI_BlastOutput.dtd\">\n",
      "<BlastOutput>\n",
      "  <BlastOutput_program>blastn</BlastOutput_program>\n",
      "  <BlastOutput_version>BLASTN 2.13.0+</BlastOutput_version>\n",
      "  <BlastOutput_reference>Stephen F. Altschul, Thomas L. Madden, Alejandro A. Sch&amp;auml;ffer, Jinghui Zhang, Zheng Zhang, Webb Miller, and David J. Lipman (1997), &quot;Gapped BLAST and PSI-BLAST: a new generation of protein database search programs&quot;, Nucleic Acids Res. 25:3389-3402.</BlastOutput_reference>\n",
      "  <BlastOutput_db>nt</BlastOutput_db>\n",
      "  <BlastOutput_query-ID>Query_47293</BlastOutput_query-ID>\n",
      "  <BlastOutput_query-def>No definition line</BlastOutput_query-def>\n",
      "  <BlastOutput_query-len>40</BlastOutput_query-len>\n",
      "  <BlastOutput_param>\n",
      "    <Parameters>\n",
      "      <Parameters_expect>10</Parameters_expect>\n",
      "      <Parameters_sc-match>2</Parameters_sc-match>\n",
      "      <Parameters_sc-mismatch>-3</Parameters_sc-mismatch>\n",
      "      <Parameters_gap-open>5</Parameters_gap-open>\n",
      "      <Parameters_gap-extend>2</Parameters_gap-extend>\n",
      "      <Parameters_filter>L;m;</Parameters_filter>\n",
      "    </Parameters>\n",
      "  </BlastOutput_param>\n",
      "<BlastOutput_iterations>\n",
      "<Iteration>\n",
      "  <Iteration_iter-num>1</Iteration_iter-num>\n",
      "  <Iteration_query-ID>Query_47293</Iteration_query-ID>\n",
      "  <Iteration_query-def>No definition line</Iteration_query-def>\n",
      "  <Iteration_query-len>40</Iteration_query-len>\n",
      "<Iteration_hits>\n",
      "<Hit>\n",
      "  <Hit_num>1</Hit_num>\n",
      "  <Hit_id>gi|71143213|gb|AC165171.2|</Hit_id>\n",
      "  <Hit_def>Zea mays clone CH201-145P10, complete sequence</Hit_def>\n",
      "  <Hit_accession>AC165171</Hit_accession>\n",
      "  <Hit_len>233369</Hit_len>\n",
      "  <Hit_hsps>\n",
      "    <Hsp>\n",
      "      <Hsp_num>1</Hsp_num>\n",
      "      <Hsp_bit-score>50.8789</Hsp_bit-score>\n",
      "      <Hsp_score>55</Hsp_score>\n",
      "      <Hsp_evalue>0.00441828</Hsp_evalue>\n",
      "      <Hsp_query-from>1</Hsp_query-from>\n",
      "      <Hsp_query-to>35</Hsp_query-to>\n",
      "      <Hsp_hit-from>172141</Hsp_hit-from>\n",
      "      <Hsp_hit-to>172107</Hsp_hit-to>\n",
      "      <Hsp_query-frame>1</Hsp_query-frame>\n",
      "      <Hsp_hit-frame>-1</Hsp_hit-frame>\n",
      "      <Hsp_identity>32</Hsp_identity>\n",
      "      <Hsp_positive>32</Hsp_positive>\n",
      "      <Hsp_gaps>0</Hsp_gaps>\n",
      "      <Hsp_align-len>35</Hsp_align-len>\n",
      "      <Hsp_qseq>CTAGCTAGCTAGCTAGTCATGCATGCTAGCTACTC</Hsp_qseq>\n",
      "      <Hsp_hseq>CTAGCTAGCTAGCTAATCATGCACGCTAGCTAGTC</Hsp_hseq>\n",
      "      <Hsp_midline>||||||||||||||| ||||||| |||||||| ||</Hsp_midline>\n",
      "    </Hsp>\n",
      "  </Hit_hsps>\n",
      "</Hit>\n",
      "<Hit>\n",
      "  <Hit_num>2</Hit_num>\n",
      "  <Hit_id>gi|1811248730|dbj|AP022684.1|</Hit_id>\n",
      "  <Hit_def>Epinephelus fuscoguttatus DNA, LG10, complete sequence</Hit_def>\n",
      "  <Hit_accession>AP022684</Hit_accession>\n"
     ]
    }
   ],
   "source": [
    "\n",
    "\n",
    "!head -n 60 resultado_blast.xml\n",
    "\n"
   ]
  },
  {
   "cell_type": "code",
   "execution_count": 28,
   "id": "5678d4c4",
   "metadata": {},
   "outputs": [
    {
     "name": "stdout",
     "output_type": "stream",
     "text": [
      "Obteniendo información del gen...\n",
      "Especie: Zea mays\n",
      "Gen identificado: AC165171 \n",
      "Ubicación: [0:233369](+)\n",
      "Exones en el gen: 2\n"
     ]
    }
   ],
   "source": [
    "print('Obteniendo información del gen...')   \n",
    "with Entrez.efetch(db=\"nucleotide\", rettype=\"gb\", retmode=\"text\", id=hit_seq) as handle:\n",
    "    seq_record = SeqIO.read(handle, \"gb\")\n",
    "    print(f'Especie: {seq_record.annotations[\"organism\"]}')\n",
    "    print(f'Gen identificado: {seq_record.name} ')\n",
    "    print(f'Ubicación: {seq_record.features[0].location}')\n",
    "    print(f'Exones en el gen: {len(seq_record.features)}')"
   ]
  }
 ],
 "metadata": {
  "kernelspec": {
   "display_name": "Python 3 (ipykernel)",
   "language": "python",
   "name": "python3"
  },
  "language_info": {
   "codemirror_mode": {
    "name": "ipython",
    "version": 3
   },
   "file_extension": ".py",
   "mimetype": "text/x-python",
   "name": "python",
   "nbconvert_exporter": "python",
   "pygments_lexer": "ipython3",
   "version": "3.10.4"
  }
 },
 "nbformat": 4,
 "nbformat_minor": 5
}
