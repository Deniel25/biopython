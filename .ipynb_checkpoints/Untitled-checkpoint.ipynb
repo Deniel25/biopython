{
 "cells": [
  {
   "cell_type": "code",
   "execution_count": 1,
   "id": "9ab73d7a",
   "metadata": {},
   "outputs": [],
   "source": [
    "from Bio.Seq import Seq\n",
    "from Bio import Entrez\n",
    "from Bio import SeqIO\n",
    "from Bio.Blast import NCBIWWW\n",
    "from Bio.Blast import NCBIXML\n",
    "import sys"
   ]
  },
  {
   "cell_type": "code",
   "execution_count": 2,
   "id": "44b666c0",
   "metadata": {},
   "outputs": [],
   "source": [
    "#seq = Seq(\"ACCTGCGGAGGGATCATTACCGAGTTTACAACTCCCAAACCCAATGGAACGTTACCAAACTGTTGCCTCGGCGGGATCTCTGCCCCGGGTGCGTCGCAGCCCCGGACCAAGGCGCCCGCCGGAGGACCAACCAAAACTCTTTTTGTATACCCCCTCGCGGGTTTTTTATAATCTGAGCCTTCTCGGCGCCTCTCGTAGGCGTTTCGAAAATAAATCAAAACTTTCAACAACGGATCTCTTGGTTCTGGCATCGATGAAGAACGCAACCAAATGCGATAAGTAATGTGAATTGCAAAATTCACTGAATCATCGAATCTTTGAACGCACATTGCGCCCGCCAGTATTCTGGCGGGCATGCCTGTCCGAACGTCATTTCAACCCTCGAACCCCTCCGGGGGGTCGGCGTTGGGGATCGGCCCTCCCTTAGCGGGTGGCCGTCTCCGAAATACAGCGGCGGTCTCCCCGCAGCCTCTCCCGCGCAGTACTTTGCACACTCTCATCGGGAGCGCGGCGCGTCCACAGCCGTTAAACACCCAACTTCTGAATTGTTGAACTAAGATCAGGTAGGAATACCCGCTGAACTTAAGCATATCAAAA\")"
   ]
  },
  {
   "cell_type": "code",
   "execution_count": 3,
   "id": "de8fa544",
   "metadata": {},
   "outputs": [],
   "source": [
    "seq = Seq('CTAGCTAGCTAGCTAGTCATGCATGCTAGCTACTCGATCG')"
   ]
  },
  {
   "cell_type": "code",
   "execution_count": 4,
   "id": "c93f784a",
   "metadata": {},
   "outputs": [
    {
     "name": "stdout",
     "output_type": "stream",
     "text": [
      "BLASTeando secuencia...\n",
      "archivo almacenado\n"
     ]
    }
   ],
   "source": [
    "#Blasteo\n",
    "print('BLASTeando secuencia...')\n",
    "result_handle = NCBIWWW.qblast(\"blastn\", \"nt\", seq)\n",
    "with open(\"resultado_blast.xml\", \"w\") as out_handle:\n",
    "    out_handle.write(result_handle.read())\n",
    "result_handle.close()\n",
    "print('archivo almacenado')"
   ]
  },
  {
   "cell_type": "code",
   "execution_count": 5,
   "id": "44b71fc9",
   "metadata": {},
   "outputs": [
    {
     "name": "stdout",
     "output_type": "stream",
     "text": [
      "=== Alineamiento ===\n",
      " Secuencia: gi|71143213|gb|AC165171.2| Zea mays clone CH201-145P10, complete sequence\n",
      " Largo: 233369\n",
      " e value: 0.00441828\n"
     ]
    }
   ],
   "source": [
    "resultados = open(\"resultado_blast.xml\")\n",
    "blast_record = NCBIXML.read(resultados)\n",
    "\n",
    "for alineamiento in blast_record.alignments:  # alignments se refiere a los hits\n",
    "    for hsp in alineamiento.hsps: # recore HSPs\n",
    "        print(f'=== Alineamiento ===')\n",
    "        print(f' Secuencia: {alineamiento.title}') # title concatena tags hit_id y hit_def\n",
    "        print(f' Largo: {alineamiento.length}') # se refiere al tag hit_len\n",
    "        print(f' e value: {hsp.expect}') # se refiere al tag Hsp_evalue\n",
    "        \n",
    "        hit_seq = (alineamiento.title.split('|'))[1]\n",
    "        break\n",
    "    break\n",
    "resultados.close()\n",
    "\n"
   ]
  },
  {
   "cell_type": "code",
   "execution_count": 28,
   "id": "5678d4c4",
   "metadata": {},
   "outputs": [
    {
     "name": "stdout",
     "output_type": "stream",
     "text": [
      "Obteniendo información del gen...\n",
      "Especie: Zea mays\n",
      "Gen identificado: AC165171 \n",
      "Ubicación: [0:233369](+)\n",
      "Exones en el gen: 2\n"
     ]
    }
   ],
   "source": [
    "print('Obteniendo información del gen...')   \n",
    "with Entrez.efetch(db=\"nucleotide\", rettype=\"gb\", retmode=\"text\", id=hit_seq) as handle:\n",
    "    seq_record = SeqIO.read(handle, \"gb\")\n",
    "    print(f'Especie: {seq_record.annotations[\"organism\"]}')\n",
    "    print(f'Gen identificado: {seq_record.name} ')\n",
    "    print(f'Ubicación: {seq_record.features[0].location}')\n",
    "    print(f'Exones en el gen: {len(seq_record.features)}')"
   ]
  }
 ],
 "metadata": {
  "kernelspec": {
   "display_name": "Python 3 (ipykernel)",
   "language": "python",
   "name": "python3"
  },
  "language_info": {
   "codemirror_mode": {
    "name": "ipython",
    "version": 3
   },
   "file_extension": ".py",
   "mimetype": "text/x-python",
   "name": "python",
   "nbconvert_exporter": "python",
   "pygments_lexer": "ipython3",
   "version": "3.10.4"
  }
 },
 "nbformat": 4,
 "nbformat_minor": 5
}
